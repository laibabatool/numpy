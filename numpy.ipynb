{
 "cells": [
  {
   "cell_type": "code",
   "execution_count": 1,
   "id": "ce97bb0b",
   "metadata": {},
   "outputs": [],
   "source": [
    "#numpy means numerical python\n",
    "import numpy as np"
   ]
  },
  {
   "cell_type": "markdown",
   "id": "7f8faa0a",
   "metadata": {},
   "source": [
    "# 1D array"
   ]
  },
  {
   "cell_type": "code",
   "execution_count": 2,
   "id": "3a795bd5",
   "metadata": {},
   "outputs": [
    {
     "data": {
      "text/plain": [
       "array([ 0,  1,  2,  3,  4,  5,  6,  7,  8,  9, 10, 11, 12, 13, 14, 15, 16,\n",
       "       17, 18, 19, 20, 21, 22, 23, 24, 25, 26, 27, 28, 29, 30, 31, 32, 33,\n",
       "       34, 35, 36, 37, 38, 39, 40, 41, 42, 43, 44, 45, 46, 47, 48, 49])"
      ]
     },
     "execution_count": 2,
     "metadata": {},
     "output_type": "execute_result"
    }
   ],
   "source": [
    "array1 = np.arange(50)\n",
    "array1"
   ]
  },
  {
   "cell_type": "code",
   "execution_count": 17,
   "id": "10f66ac7",
   "metadata": {},
   "outputs": [
    {
     "data": {
      "text/plain": [
       "array([2, 4, 6, 8])"
      ]
     },
     "execution_count": 17,
     "metadata": {},
     "output_type": "execute_result"
    }
   ],
   "source": [
    "list2 = [2,4,6,8,]\n",
    "array2 = np.array(list2)\n",
    "array2"
   ]
  },
  {
   "cell_type": "code",
   "execution_count": 8,
   "id": "5b7c4ede",
   "metadata": {},
   "outputs": [
    {
     "data": {
      "text/plain": [
       "array([ 0.34789839,  1.41218123, -0.88490222, -0.05593625,  1.17393743,\n",
       "        0.4316042 ])"
      ]
     },
     "execution_count": 8,
     "metadata": {},
     "output_type": "execute_result"
    }
   ],
   "source": [
    "array5 = np.random.randn(6)\n",
    "array5"
   ]
  },
  {
   "cell_type": "markdown",
   "id": "61d75c9a",
   "metadata": {},
   "source": [
    "# 2D array"
   ]
  },
  {
   "cell_type": "code",
   "execution_count": 6,
   "id": "6d026368",
   "metadata": {},
   "outputs": [
    {
     "data": {
      "text/plain": [
       "array([[-2.1806469 ,  1.28898509, -0.42253224],\n",
       "       [ 1.50475452,  0.89889642, -0.15126861]])"
      ]
     },
     "execution_count": 6,
     "metadata": {},
     "output_type": "execute_result"
    }
   ],
   "source": [
    "array3 = np.random.randn(2,3)   #(rows , colimns)\n",
    "array3"
   ]
  },
  {
   "cell_type": "markdown",
   "id": "8fe53be4",
   "metadata": {},
   "source": [
    "# 3D array"
   ]
  },
  {
   "cell_type": "code",
   "execution_count": 7,
   "id": "00c32447",
   "metadata": {},
   "outputs": [
    {
     "data": {
      "text/plain": [
       "array([[[ 2.33762756,  0.39336643, -0.70908316],\n",
       "        [ 0.01692596, -1.48652649, -1.29342965]],\n",
       "\n",
       "       [[-0.81801454, -0.02370169,  1.57842801],\n",
       "        [ 0.91793327, -1.35025743,  0.77344735]],\n",
       "\n",
       "       [[-2.00526786,  0.06790794, -0.62344775],\n",
       "        [ 0.33729718,  0.56050814,  1.57969331]],\n",
       "\n",
       "       [[ 0.1841844 , -0.65153751, -0.76459939],\n",
       "        [ 0.65420005, -0.06830797, -0.16204432]]])"
      ]
     },
     "execution_count": 7,
     "metadata": {},
     "output_type": "execute_result"
    }
   ],
   "source": [
    "array4 = np.random.randn(4,2,3)   #(items , rows ,columns)\n",
    "array4"
   ]
  },
  {
   "cell_type": "markdown",
   "id": "068fd845",
   "metadata": {},
   "source": [
    "# properties of arrays"
   ]
  },
  {
   "cell_type": "code",
   "execution_count": 18,
   "id": "4481b7f7",
   "metadata": {},
   "outputs": [
    {
     "data": {
      "text/plain": [
       "(4, 2, 3)"
      ]
     },
     "execution_count": 18,
     "metadata": {},
     "output_type": "execute_result"
    }
   ],
   "source": [
    "array4.shape"
   ]
  },
  {
   "cell_type": "code",
   "execution_count": 20,
   "id": "bcc25716",
   "metadata": {},
   "outputs": [
    {
     "data": {
      "text/plain": [
       "dtype('float64')"
      ]
     },
     "execution_count": 20,
     "metadata": {},
     "output_type": "execute_result"
    }
   ],
   "source": [
    "array3.dtype\n"
   ]
  },
  {
   "cell_type": "code",
   "execution_count": 22,
   "id": "933c160f",
   "metadata": {},
   "outputs": [
    {
     "data": {
      "text/plain": [
       "3"
      ]
     },
     "execution_count": 22,
     "metadata": {},
     "output_type": "execute_result"
    }
   ],
   "source": [
    "array4.ndim\n"
   ]
  },
  {
   "cell_type": "markdown",
   "id": "1a804404",
   "metadata": {},
   "source": [
    "# special properties"
   ]
  },
  {
   "cell_type": "code",
   "execution_count": 23,
   "id": "2d211312",
   "metadata": {},
   "outputs": [
    {
     "data": {
      "text/plain": [
       "array([[[2.33762756, 0.39336643, 0.70908316, 0.01692596],\n",
       "        [1.48652649, 1.29342965, 0.81801454, 0.02370169],\n",
       "        [1.57842801, 0.91793327, 1.35025743, 0.77344735]],\n",
       "\n",
       "       [[2.00526786, 0.06790794, 0.62344775, 0.33729718],\n",
       "        [0.56050814, 1.57969331, 0.1841844 , 0.65153751],\n",
       "        [0.76459939, 0.65420005, 0.06830797, 0.16204432]]])"
      ]
     },
     "execution_count": 23,
     "metadata": {},
     "output_type": "execute_result"
    }
   ],
   "source": [
    "np.empty((2,3,4))"
   ]
  },
  {
   "cell_type": "code",
   "execution_count": null,
   "id": "de7e9ec0",
   "metadata": {},
   "outputs": [],
   "source": [
    "np.zeros((4,2,3))"
   ]
  },
  {
   "cell_type": "code",
   "execution_count": 26,
   "id": "a726f014",
   "metadata": {},
   "outputs": [
    {
     "data": {
      "text/plain": [
       "array([[[1., 1.]],\n",
       "\n",
       "       [[1., 1.]],\n",
       "\n",
       "       [[1., 1.]],\n",
       "\n",
       "       [[1., 1.]],\n",
       "\n",
       "       [[1., 1.]],\n",
       "\n",
       "       [[1., 1.]]])"
      ]
     },
     "execution_count": 26,
     "metadata": {},
     "output_type": "execute_result"
    }
   ],
   "source": [
    "np.ones((6,1,2))"
   ]
  },
  {
   "cell_type": "markdown",
   "id": "26911974",
   "metadata": {},
   "source": [
    "# airthemetic operations"
   ]
  },
  {
   "cell_type": "code",
   "execution_count": 25,
   "id": "5de60ba5",
   "metadata": {},
   "outputs": [
    {
     "data": {
      "text/plain": [
       "array([ 8, 16, 24, 32])"
      ]
     },
     "execution_count": 25,
     "metadata": {},
     "output_type": "execute_result"
    }
   ],
   "source": [
    "array2*4"
   ]
  },
  {
   "cell_type": "code",
   "execution_count": 24,
   "id": "db3d2fbe",
   "metadata": {},
   "outputs": [
    {
     "data": {
      "text/plain": [
       "array([ 4,  8, 12, 16])"
      ]
     },
     "execution_count": 24,
     "metadata": {},
     "output_type": "execute_result"
    }
   ],
   "source": [
    "array2 + array2"
   ]
  },
  {
   "cell_type": "code",
   "execution_count": 11,
   "id": "f04a83f5",
   "metadata": {},
   "outputs": [
    {
     "data": {
      "text/plain": [
       "array([[-0.45857952,  0.77580416, -2.36668332],\n",
       "       [ 0.66456022,  1.11247523, -6.61075682]])"
      ]
     },
     "execution_count": 11,
     "metadata": {},
     "output_type": "execute_result"
    }
   ],
   "source": [
    "1/array3"
   ]
  },
  {
   "cell_type": "markdown",
   "id": "f9973334",
   "metadata": {},
   "source": [
    "# Logical operator"
   ]
  },
  {
   "cell_type": "code",
   "execution_count": 28,
   "id": "dc3938b4",
   "metadata": {},
   "outputs": [
    {
     "data": {
      "text/plain": [
       "array([ 5, 10,  2,  4, 20])"
      ]
     },
     "execution_count": 28,
     "metadata": {},
     "output_type": "execute_result"
    }
   ],
   "source": [
    "list6 = [5,10,2,4,20]\n",
    "array6 = np.array(list6)\n",
    "array6"
   ]
  },
  {
   "cell_type": "code",
   "execution_count": 29,
   "id": "b874831d",
   "metadata": {},
   "outputs": [
    {
     "data": {
      "text/plain": [
       "array([ 2,  4,  6,  8, 10])"
      ]
     },
     "execution_count": 29,
     "metadata": {},
     "output_type": "execute_result"
    }
   ],
   "source": [
    "list2 = [2,4,6,8,10]\n",
    "array2 = np.array(list2)\n",
    "array2"
   ]
  },
  {
   "cell_type": "code",
   "execution_count": 30,
   "id": "572a404f",
   "metadata": {},
   "outputs": [
    {
     "data": {
      "text/plain": [
       "array([False, False,  True,  True, False])"
      ]
     },
     "execution_count": 30,
     "metadata": {},
     "output_type": "execute_result"
    }
   ],
   "source": [
    "array2 > array6"
   ]
  },
  {
   "cell_type": "markdown",
   "id": "d4f6b015",
   "metadata": {},
   "source": [
    "# slicing"
   ]
  },
  {
   "cell_type": "code",
   "execution_count": 32,
   "id": "0b9dac68",
   "metadata": {},
   "outputs": [
    {
     "data": {
      "text/plain": [
       "6"
      ]
     },
     "execution_count": 32,
     "metadata": {},
     "output_type": "execute_result"
    }
   ],
   "source": [
    "array2[2]"
   ]
  },
  {
   "cell_type": "code",
   "execution_count": 33,
   "id": "6673a39b",
   "metadata": {},
   "outputs": [
    {
     "data": {
      "text/plain": [
       "array([ 4,  6,  8, 10])"
      ]
     },
     "execution_count": 33,
     "metadata": {},
     "output_type": "execute_result"
    }
   ],
   "source": [
    "array2[1:5]"
   ]
  },
  {
   "cell_type": "code",
   "execution_count": 34,
   "id": "6991cbe4",
   "metadata": {},
   "outputs": [
    {
     "data": {
      "text/plain": [
       "array([2, 4])"
      ]
     },
     "execution_count": 34,
     "metadata": {},
     "output_type": "execute_result"
    }
   ],
   "source": [
    "array2[:2]"
   ]
  },
  {
   "cell_type": "code",
   "execution_count": 35,
   "id": "4de96a8b",
   "metadata": {},
   "outputs": [
    {
     "data": {
      "text/plain": [
       "array([ 1.50475452,  0.89889642, -0.15126861])"
      ]
     },
     "execution_count": 35,
     "metadata": {},
     "output_type": "execute_result"
    }
   ],
   "source": [
    "array3[1]"
   ]
  },
  {
   "cell_type": "code",
   "execution_count": 36,
   "id": "5e916ac3",
   "metadata": {},
   "outputs": [
    {
     "data": {
      "text/plain": [
       "1.2889850905805103"
      ]
     },
     "execution_count": 36,
     "metadata": {},
     "output_type": "execute_result"
    }
   ],
   "source": [
    "array3[0][1]   #[rows][columns]"
   ]
  },
  {
   "cell_type": "code",
   "execution_count": 37,
   "id": "84d148d3",
   "metadata": {},
   "outputs": [
    {
     "data": {
      "text/plain": [
       "array([[-2.00526786,  0.06790794, -0.62344775],\n",
       "       [ 0.33729718,  0.56050814,  1.57969331]])"
      ]
     },
     "execution_count": 37,
     "metadata": {},
     "output_type": "execute_result"
    }
   ],
   "source": [
    "array4[2]"
   ]
  },
  {
   "cell_type": "code",
   "execution_count": 38,
   "id": "5a52a169",
   "metadata": {},
   "outputs": [
    {
     "data": {
      "text/plain": [
       "array([-2.00526786,  0.06790794, -0.62344775])"
      ]
     },
     "execution_count": 38,
     "metadata": {},
     "output_type": "execute_result"
    }
   ],
   "source": [
    "array4[2][0]"
   ]
  },
  {
   "cell_type": "code",
   "execution_count": 39,
   "id": "1bf3b0bf",
   "metadata": {},
   "outputs": [
    {
     "data": {
      "text/plain": [
       "-0.6234477476132838"
      ]
     },
     "execution_count": 39,
     "metadata": {},
     "output_type": "execute_result"
    }
   ],
   "source": [
    "array4[2][0][2]"
   ]
  },
  {
   "cell_type": "markdown",
   "id": "5cedd454",
   "metadata": {},
   "source": [
    "# indexing"
   ]
  },
  {
   "cell_type": "code",
   "execution_count": 40,
   "id": "f3844008",
   "metadata": {},
   "outputs": [
    {
     "data": {
      "text/plain": [
       "array([ 2, 10, 10, 10, 10])"
      ]
     },
     "execution_count": 40,
     "metadata": {},
     "output_type": "execute_result"
    }
   ],
   "source": [
    "array2[1:4]=10\n",
    "array2"
   ]
  },
  {
   "cell_type": "code",
   "execution_count": 45,
   "id": "38785a3b",
   "metadata": {},
   "outputs": [
    {
     "data": {
      "text/plain": [
       "array([[100.        , 100.        , 100.        ],\n",
       "       [  1.50475452,   0.89889642,  -0.15126861]])"
      ]
     },
     "execution_count": 45,
     "metadata": {},
     "output_type": "execute_result"
    }
   ],
   "source": [
    "array3[0]=100\n",
    "array3"
   ]
  },
  {
   "cell_type": "code",
   "execution_count": 43,
   "id": "b29a0860",
   "metadata": {},
   "outputs": [
    {
     "data": {
      "text/plain": [
       "array([ 2,  4, 20])"
      ]
     },
     "execution_count": 43,
     "metadata": {},
     "output_type": "execute_result"
    }
   ],
   "source": [
    "xyz = array6[2:6]\n",
    "xyz"
   ]
  },
  {
   "cell_type": "code",
   "execution_count": 44,
   "id": "d2a77a53",
   "metadata": {},
   "outputs": [
    {
     "data": {
      "text/plain": [
       "array([20, 20, 20, 20, 20])"
      ]
     },
     "execution_count": 44,
     "metadata": {},
     "output_type": "execute_result"
    }
   ],
   "source": [
    "array6[:]=20\n",
    "array6"
   ]
  },
  {
   "cell_type": "markdown",
   "id": "b7ef6337",
   "metadata": {},
   "source": [
    "# fancy indexing"
   ]
  },
  {
   "cell_type": "code",
   "execution_count": 47,
   "id": "5f28f592",
   "metadata": {},
   "outputs": [
    {
     "data": {
      "text/plain": [
       "array([[0., 0., 0., 0.],\n",
       "       [1., 1., 1., 1.],\n",
       "       [2., 2., 2., 2.],\n",
       "       [3., 3., 3., 3.],\n",
       "       [4., 4., 4., 4.],\n",
       "       [5., 5., 5., 5.],\n",
       "       [6., 6., 6., 6.],\n",
       "       [7., 7., 7., 7.]])"
      ]
     },
     "execution_count": 47,
     "metadata": {},
     "output_type": "execute_result"
    }
   ],
   "source": [
    "array7 = np.empty((8,4))\n",
    "for i in range(8):\n",
    "      array7[i] = i\n",
    "array7"
   ]
  },
  {
   "cell_type": "code",
   "execution_count": 48,
   "id": "97b294b1",
   "metadata": {},
   "outputs": [
    {
     "data": {
      "text/plain": [
       "array([[ 0,  1,  2,  3,  4,  5,  6,  7,  8,  9],\n",
       "       [10, 11, 12, 13, 14, 15, 16, 17, 18, 19],\n",
       "       [20, 21, 22, 23, 24, 25, 26, 27, 28, 29],\n",
       "       [30, 31, 32, 33, 34, 35, 36, 37, 38, 39],\n",
       "       [40, 41, 42, 43, 44, 45, 46, 47, 48, 49]])"
      ]
     },
     "execution_count": 48,
     "metadata": {},
     "output_type": "execute_result"
    }
   ],
   "source": [
    "array8 = np.arange(50).reshape(5,10)\n",
    "array8"
   ]
  },
  {
   "cell_type": "code",
   "execution_count": 49,
   "id": "33c2b964",
   "metadata": {},
   "outputs": [
    {
     "data": {
      "text/plain": [
       "array([[[-0.70908316,  0.39336643,  2.33762756],\n",
       "        [-1.48652649, -1.29342965,  0.01692596]],\n",
       "\n",
       "       [[-0.81801454, -0.02370169,  1.57842801],\n",
       "        [-1.35025743,  0.77344735,  0.91793327]],\n",
       "\n",
       "       [[-2.00526786, -0.62344775,  0.06790794],\n",
       "        [ 0.33729718,  0.56050814,  1.57969331]],\n",
       "\n",
       "       [[-0.76459939, -0.65153751,  0.1841844 ],\n",
       "        [-0.16204432, -0.06830797,  0.65420005]]])"
      ]
     },
     "execution_count": 49,
     "metadata": {},
     "output_type": "execute_result"
    }
   ],
   "source": [
    "array4.sort()\n",
    "array4"
   ]
  },
  {
   "cell_type": "code",
   "execution_count": 50,
   "id": "82bb427b",
   "metadata": {},
   "outputs": [],
   "source": [
    "np.save(\"MY_Array\",array4)"
   ]
  },
  {
   "cell_type": "code",
   "execution_count": 54,
   "id": "066ac45b",
   "metadata": {},
   "outputs": [
    {
     "data": {
      "text/plain": [
       "array([[[-0.70908316,  0.39336643,  2.33762756],\n",
       "        [-1.48652649, -1.29342965,  0.01692596]],\n",
       "\n",
       "       [[-0.81801454, -0.02370169,  1.57842801],\n",
       "        [-1.35025743,  0.77344735,  0.91793327]],\n",
       "\n",
       "       [[-2.00526786, -0.62344775,  0.06790794],\n",
       "        [ 0.33729718,  0.56050814,  1.57969331]],\n",
       "\n",
       "       [[-0.76459939, -0.65153751,  0.1841844 ],\n",
       "        [-0.16204432, -0.06830797,  0.65420005]]])"
      ]
     },
     "execution_count": 54,
     "metadata": {},
     "output_type": "execute_result"
    }
   ],
   "source": [
    "np.load(\"MY_Array.npy\")"
   ]
  },
  {
   "cell_type": "code",
   "execution_count": 55,
   "id": "48a9c4f1",
   "metadata": {},
   "outputs": [
    {
     "data": {
      "text/plain": [
       "array([-0.88490222, -0.05593625,  0.34789839,  0.4316042 ,  1.17393743,\n",
       "        1.41218123])"
      ]
     },
     "execution_count": 55,
     "metadata": {},
     "output_type": "execute_result"
    }
   ],
   "source": [
    "array5.sort()\n",
    "array5"
   ]
  },
  {
   "cell_type": "code",
   "execution_count": null,
   "id": "0bc5f268",
   "metadata": {},
   "outputs": [],
   "source": []
  }
 ],
 "metadata": {
  "kernelspec": {
   "display_name": "Python 3 (ipykernel)",
   "language": "python",
   "name": "python3"
  },
  "language_info": {
   "codemirror_mode": {
    "name": "ipython",
    "version": 3
   },
   "file_extension": ".py",
   "mimetype": "text/x-python",
   "name": "python",
   "nbconvert_exporter": "python",
   "pygments_lexer": "ipython3",
   "version": "3.9.7"
  }
 },
 "nbformat": 4,
 "nbformat_minor": 5
}
